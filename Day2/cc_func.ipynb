{
 "cells": [
  {
   "cell_type": "code",
   "execution_count": 1,
   "metadata": {},
   "outputs": [
    {
     "name": "stdout",
     "output_type": "stream",
     "text": [
      "Correlation Coefficient: 0.9999999999999999\n"
     ]
    }
   ],
   "source": [
    "import numpy as np\n",
    "\n",
    "# Path: correlation coefficient function\n",
    "def calculate_correlation(x, y):\n",
    "    correlation_coefficient = np.corrcoef(x, y)[0, 1]\n",
    "    \n",
    "    return correlation_coefficient\n",
    "\n",
    "list1 = [1, 2, 3, 4, 5]\n",
    "list2 = [2, 4, 6, 8, 10]\n",
    "\n",
    "corr = calculate_correlation(list1, list2)\n",
    "print('Correlation Coefficient:', corr)"
   ]
  },
  {
   "cell_type": "markdown",
   "metadata": {},
   "source": []
  },
  {
   "cell_type": "code",
   "execution_count": 3,
   "metadata": {},
   "outputs": [
    {
     "data": {
      "text/html": [
       "<div>\n",
       "<style scoped>\n",
       "    .dataframe tbody tr th:only-of-type {\n",
       "        vertical-align: middle;\n",
       "    }\n",
       "\n",
       "    .dataframe tbody tr th {\n",
       "        vertical-align: top;\n",
       "    }\n",
       "\n",
       "    .dataframe thead th {\n",
       "        text-align: right;\n",
       "    }\n",
       "</style>\n",
       "<table border=\"1\" class=\"dataframe\">\n",
       "  <thead>\n",
       "    <tr style=\"text-align: right;\">\n",
       "      <th></th>\n",
       "      <th>Country</th>\n",
       "      <th>1990</th>\n",
       "      <th>1991</th>\n",
       "      <th>1992</th>\n",
       "      <th>1993</th>\n",
       "      <th>1994</th>\n",
       "      <th>1995</th>\n",
       "      <th>1996</th>\n",
       "      <th>1997</th>\n",
       "      <th>1998</th>\n",
       "      <th>...</th>\n",
       "      <th>2010</th>\n",
       "      <th>2011</th>\n",
       "      <th>2012</th>\n",
       "      <th>2013</th>\n",
       "      <th>2014</th>\n",
       "      <th>2015</th>\n",
       "      <th>2016</th>\n",
       "      <th>2017</th>\n",
       "      <th>2018</th>\n",
       "      <th>Info</th>\n",
       "    </tr>\n",
       "  </thead>\n",
       "  <tbody>\n",
       "    <tr>\n",
       "      <th>0</th>\n",
       "      <td>Afghanistan</td>\n",
       "      <td>2193</td>\n",
       "      <td>1841</td>\n",
       "      <td>1739</td>\n",
       "      <td>1208</td>\n",
       "      <td>877</td>\n",
       "      <td>1244</td>\n",
       "      <td>1130</td>\n",
       "      <td>1039</td>\n",
       "      <td>967</td>\n",
       "      <td>...</td>\n",
       "      <td>1675</td>\n",
       "      <td>1625</td>\n",
       "      <td>1776</td>\n",
       "      <td>1814</td>\n",
       "      <td>1796</td>\n",
       "      <td>1783</td>\n",
       "      <td>1766</td>\n",
       "      <td>1767</td>\n",
       "      <td>1746</td>\n",
       "      <td>NaN</td>\n",
       "    </tr>\n",
       "    <tr>\n",
       "      <th>1</th>\n",
       "      <td>Albania</td>\n",
       "      <td>4415</td>\n",
       "      <td>3138</td>\n",
       "      <td>2857</td>\n",
       "      <td>3261</td>\n",
       "      <td>3600</td>\n",
       "      <td>4168</td>\n",
       "      <td>4594</td>\n",
       "      <td>4112</td>\n",
       "      <td>4530</td>\n",
       "      <td>...</td>\n",
       "      <td>9828</td>\n",
       "      <td>10210</td>\n",
       "      <td>10293</td>\n",
       "      <td>10669</td>\n",
       "      <td>10797</td>\n",
       "      <td>11098</td>\n",
       "      <td>11534</td>\n",
       "      <td>11831</td>\n",
       "      <td>12300</td>\n",
       "      <td>NaN</td>\n",
       "    </tr>\n",
       "    <tr>\n",
       "      <th>2</th>\n",
       "      <td>Algeria</td>\n",
       "      <td>9989</td>\n",
       "      <td>9457</td>\n",
       "      <td>9462</td>\n",
       "      <td>9171</td>\n",
       "      <td>8847</td>\n",
       "      <td>8904</td>\n",
       "      <td>9069</td>\n",
       "      <td>9099</td>\n",
       "      <td>9502</td>\n",
       "      <td>...</td>\n",
       "      <td>12946</td>\n",
       "      <td>12908</td>\n",
       "      <td>12910</td>\n",
       "      <td>12946</td>\n",
       "      <td>13169</td>\n",
       "      <td>13330</td>\n",
       "      <td>13832</td>\n",
       "      <td>13656</td>\n",
       "      <td>13639</td>\n",
       "      <td>NaN</td>\n",
       "    </tr>\n",
       "    <tr>\n",
       "      <th>3</th>\n",
       "      <td>Andorra</td>\n",
       "      <td>49062</td>\n",
       "      <td>48391</td>\n",
       "      <td>47002</td>\n",
       "      <td>44928</td>\n",
       "      <td>44747</td>\n",
       "      <td>45136</td>\n",
       "      <td>46861</td>\n",
       "      <td>51136</td>\n",
       "      <td>52922</td>\n",
       "      <td>...</td>\n",
       "      <td>43061</td>\n",
       "      <td>41402</td>\n",
       "      <td>41386</td>\n",
       "      <td>42376</td>\n",
       "      <td>44197</td>\n",
       "      <td>45260</td>\n",
       "      <td>46553</td>\n",
       "      <td>47550</td>\n",
       "      <td>48641</td>\n",
       "      <td>a</td>\n",
       "    </tr>\n",
       "    <tr>\n",
       "      <th>4</th>\n",
       "      <td>Angola</td>\n",
       "      <td>4139</td>\n",
       "      <td>4528</td>\n",
       "      <td>1737</td>\n",
       "      <td>1704</td>\n",
       "      <td>1304</td>\n",
       "      <td>2858</td>\n",
       "      <td>2826</td>\n",
       "      <td>3335</td>\n",
       "      <td>3269</td>\n",
       "      <td>...</td>\n",
       "      <td>5818</td>\n",
       "      <td>5796</td>\n",
       "      <td>6128</td>\n",
       "      <td>6294</td>\n",
       "      <td>6484</td>\n",
       "      <td>6440</td>\n",
       "      <td>6051</td>\n",
       "      <td>5950</td>\n",
       "      <td>5555</td>\n",
       "      <td>NaN</td>\n",
       "    </tr>\n",
       "  </tbody>\n",
       "</table>\n",
       "<p>5 rows × 31 columns</p>\n",
       "</div>"
      ],
      "text/plain": [
       "       Country   1990   1991   1992   1993   1994   1995   1996   1997   1998   \n",
       "0  Afghanistan   2193   1841   1739   1208    877   1244   1130   1039    967  \\\n",
       "1      Albania   4415   3138   2857   3261   3600   4168   4594   4112   4530   \n",
       "2      Algeria   9989   9457   9462   9171   8847   8904   9069   9099   9502   \n",
       "3      Andorra  49062  48391  47002  44928  44747  45136  46861  51136  52922   \n",
       "4       Angola   4139   4528   1737   1704   1304   2858   2826   3335   3269   \n",
       "\n",
       "   ...   2010   2011   2012   2013   2014   2015   2016   2017   2018 Info  \n",
       "0  ...   1675   1625   1776   1814   1796   1783   1766   1767   1746  NaN  \n",
       "1  ...   9828  10210  10293  10669  10797  11098  11534  11831  12300  NaN  \n",
       "2  ...  12946  12908  12910  12946  13169  13330  13832  13656  13639  NaN  \n",
       "3  ...  43061  41402  41386  42376  44197  45260  46553  47550  48641    a  \n",
       "4  ...   5818   5796   6128   6294   6484   6440   6051   5950   5555  NaN  \n",
       "\n",
       "[5 rows x 31 columns]"
      ]
     },
     "execution_count": 3,
     "metadata": {},
     "output_type": "execute_result"
    }
   ],
   "source": [
    "import pandas as pd\n",
    "\n",
    "gni_df = pd.read_csv(\"GNI per capita.csv\")\n",
    "gni_df.head()"
   ]
  },
  {
   "cell_type": "code",
   "execution_count": 4,
   "metadata": {},
   "outputs": [
    {
     "data": {
      "text/html": [
       "<div>\n",
       "<style scoped>\n",
       "    .dataframe tbody tr th:only-of-type {\n",
       "        vertical-align: middle;\n",
       "    }\n",
       "\n",
       "    .dataframe tbody tr th {\n",
       "        vertical-align: top;\n",
       "    }\n",
       "\n",
       "    .dataframe thead th {\n",
       "        text-align: right;\n",
       "    }\n",
       "</style>\n",
       "<table border=\"1\" class=\"dataframe\">\n",
       "  <thead>\n",
       "    <tr style=\"text-align: right;\">\n",
       "      <th></th>\n",
       "      <th>2009</th>\n",
       "      <th>2011</th>\n",
       "      <th>2016</th>\n",
       "    </tr>\n",
       "  </thead>\n",
       "  <tbody>\n",
       "    <tr>\n",
       "      <th>0</th>\n",
       "      <td>1498</td>\n",
       "      <td>1625</td>\n",
       "      <td>1766</td>\n",
       "    </tr>\n",
       "    <tr>\n",
       "      <th>1</th>\n",
       "      <td>9376</td>\n",
       "      <td>10210</td>\n",
       "      <td>11534</td>\n",
       "    </tr>\n",
       "    <tr>\n",
       "      <th>2</th>\n",
       "      <td>12602</td>\n",
       "      <td>12908</td>\n",
       "      <td>13832</td>\n",
       "    </tr>\n",
       "    <tr>\n",
       "      <th>3</th>\n",
       "      <td>45492</td>\n",
       "      <td>41402</td>\n",
       "      <td>46553</td>\n",
       "    </tr>\n",
       "    <tr>\n",
       "      <th>4</th>\n",
       "      <td>5863</td>\n",
       "      <td>5796</td>\n",
       "      <td>6051</td>\n",
       "    </tr>\n",
       "  </tbody>\n",
       "</table>\n",
       "</div>"
      ],
      "text/plain": [
       "    2009   2011   2016\n",
       "0   1498   1625   1766\n",
       "1   9376  10210  11534\n",
       "2  12602  12908  13832\n",
       "3  45492  41402  46553\n",
       "4   5863   5796   6051"
      ]
     },
     "execution_count": 4,
     "metadata": {},
     "output_type": "execute_result"
    }
   ],
   "source": [
    "# Selecting the necessary columns\n",
    "gni_df = gni_df.loc[:, ['2009', '2011', '2016']]\n",
    "gni_df.head()"
   ]
  },
  {
   "attachments": {},
   "cell_type": "markdown",
   "metadata": {},
   "source": [
    "###```Converting each columns to list```"
   ]
  },
  {
   "cell_type": "code",
   "execution_count": 6,
   "metadata": {},
   "outputs": [],
   "source": [
    "# Year 2009\n",
    "y2009 = gni_df['2009'].tolist()\n",
    "solution_a = []\n",
    "for item in y2009:\n",
    "    try:\n",
    "        solution_a.append(int(item))\n",
    "    except ValueError:\n",
    "        pass\n",
    "\n",
    "y2009 = solution_a\n",
    "\n",
    "# Year 2011\n",
    "y2011 = gni_df['2011'].tolist()\n",
    "solution_a = []\n",
    "for item in y2011:\n",
    "    try:\n",
    "        solution_a.append(int(item))\n",
    "    except ValueError:\n",
    "        pass\n",
    "\n",
    "y2011 = solution_a\n",
    "\n",
    "# Year 2016\n",
    "y2016 = gni_df['2016'].tolist()\n",
    "solution_a = []\n",
    "for item in y2016:\n",
    "    try:\n",
    "        solution_a.append(int(item))\n",
    "    except ValueError:\n",
    "        pass\n",
    "\n",
    "y2016 = solution_a"
   ]
  },
  {
   "attachments": {},
   "cell_type": "markdown",
   "metadata": {},
   "source": [
    "```2009 vs 2011```"
   ]
  },
  {
   "cell_type": "code",
   "execution_count": 9,
   "metadata": {},
   "outputs": [
    {
     "name": "stdout",
     "output_type": "stream",
     "text": [
      "Correlation Coefficient: 0.9932131057403043\n"
     ]
    }
   ],
   "source": [
    "# 2009 vs 2011\n",
    "corr = calculate_correlation(y2009, y2011)\n",
    "print('Correlation Coefficient:', corr)"
   ]
  },
  {
   "attachments": {},
   "cell_type": "markdown",
   "metadata": {},
   "source": [
    "```2009 vs 2016```"
   ]
  },
  {
   "cell_type": "code",
   "execution_count": 7,
   "metadata": {},
   "outputs": [
    {
     "name": "stdout",
     "output_type": "stream",
     "text": [
      "Correlation Coefficient: 0.9843142809175315\n"
     ]
    }
   ],
   "source": [
    "# 2009 vs 2016\n",
    "corr = calculate_correlation(y2009, y2016)\n",
    "print('Correlation Coefficient:', corr)"
   ]
  },
  {
   "attachments": {},
   "cell_type": "markdown",
   "metadata": {},
   "source": [
    "```2011 vs 2016```"
   ]
  },
  {
   "cell_type": "code",
   "execution_count": 8,
   "metadata": {},
   "outputs": [
    {
     "name": "stdout",
     "output_type": "stream",
     "text": [
      "Correlation Coefficient: 0.9920994455761051\n"
     ]
    }
   ],
   "source": [
    "# 2011 vs 2016\n",
    "corr = calculate_correlation(y2011, y2016)\n",
    "print('Correlation Coefficient:', corr)"
   ]
  }
 ],
 "metadata": {
  "kernelspec": {
   "display_name": "Python 3",
   "language": "python",
   "name": "python3"
  },
  "language_info": {
   "codemirror_mode": {
    "name": "ipython",
    "version": 3
   },
   "file_extension": ".py",
   "mimetype": "text/x-python",
   "name": "python",
   "nbconvert_exporter": "python",
   "pygments_lexer": "ipython3",
   "version": "3.11.3"
  },
  "orig_nbformat": 4
 },
 "nbformat": 4,
 "nbformat_minor": 2
}
