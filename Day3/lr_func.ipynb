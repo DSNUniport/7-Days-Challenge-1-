{
 "cells": [
  {
   "attachments": {},
   "cell_type": "markdown",
   "metadata": {},
   "source": [
    "## A basic linear regression function with sklearn module and creating a slope and intercept plot with matplotlib"
   ]
  },
  {
   "cell_type": "code",
   "execution_count": null,
   "metadata": {
    "vscode": {
     "languageId": "plaintext"
    }
   },
   "outputs": [],
   "source": [
    "from sklearn.linear_model import LinearRegression\n",
    "\n",
    "def linear_regression(x, y):\n",
    "    # Create a linear regression object\n",
    "    model = LinearRegression()\n",
    "\n",
    "    # Fit the model to the data\n",
    "    model.fit(x.reshape(-1, 1), y) # .reshape(-1, 1)\n",
    "\n",
    "    # Get the coefficients\n",
    "    slope = model.coef_[0]\n",
    "    intercept = model.intercept_\n",
    "\n",
    "    # Print the equation of the line\n",
    "    print('Equation: y = {:.2f}x + {:.2f}'.format(slope, intercept))\n",
    "\n",
    "    # Return the slope and intercept\n",
    "    return slope, intercept"
   ]
  },
  {
   "attachments": {},
   "cell_type": "markdown",
   "metadata": {},
   "source": [
    "```Reading the Dataset```"
   ]
  },
  {
   "cell_type": "code",
   "execution_count": null,
   "metadata": {
    "vscode": {
     "languageId": "plaintext"
    }
   },
   "outputs": [],
   "source": [
    "import pandas as pd\n",
    "\n",
    "gni_df = pd.read_csv(\"/content/GNI per capita.csv\")\n",
    "gni_df.head()"
   ]
  },
  {
   "cell_type": "code",
   "execution_count": null,
   "metadata": {
    "vscode": {
     "languageId": "plaintext"
    }
   },
   "outputs": [],
   "source": [
    "# Selecting the necessary columns\n",
    "gni_df = gni_df.loc[:, ['2009', '2011', '2016']]\n",
    "gni_df.head()"
   ]
  },
  {
   "attachments": {},
   "cell_type": "markdown",
   "metadata": {},
   "source": [
    "```Converting to lists so we can perform linear regression on them```"
   ]
  },
  {
   "cell_type": "code",
   "execution_count": null,
   "metadata": {
    "vscode": {
     "languageId": "plaintext"
    }
   },
   "outputs": [],
   "source": [
    "# Year 2009\n",
    "y2009 = gni_df['2009'].tolist()\n",
    "solution_a = []\n",
    "for item in y2009:\n",
    "    try:\n",
    "        solution_a.append(int(item))\n",
    "    except ValueError:\n",
    "        pass\n",
    "\n",
    "y2009 = solution_a\n",
    "\n",
    "# Year 2011\n",
    "y2011 = gni_df['2011'].tolist()\n",
    "solution_a = []\n",
    "for item in y2011:\n",
    "    try:\n",
    "        solution_a.append(int(item))\n",
    "    except ValueError:\n",
    "        pass\n",
    "\n",
    "y2011 = solution_a\n",
    "\n",
    "# Year 2016\n",
    "y2016 = gni_df['2016'].tolist()\n",
    "solution_a = []\n",
    "for item in y2016:\n",
    "    try:\n",
    "        solution_a.append(int(item))\n",
    "    except ValueError:\n",
    "        pass\n",
    "\n",
    "y2016 = solution_a"
   ]
  },
  {
   "attachments": {},
   "cell_type": "markdown",
   "metadata": {},
   "source": [
    "```Ploting Graph and generating formula for linear regression using year 2009 as the base point for the slope.```"
   ]
  },
  {
   "cell_type": "code",
   "execution_count": null,
   "metadata": {
    "vscode": {
     "languageId": "plaintext"
    }
   },
   "outputs": [],
   "source": [
    "# Generate some random data\n",
    "x = np.array(y2009)\n",
    "y = np.array(y2011)\n",
    "z = np.array(y2016)\n",
    "\n",
    "# Convert the lists to numpy arrays\n",
    "# X = np.column_stack((x, z))\n",
    "\n",
    "# Perform linear regression\n",
    "slope, intercept = linear_regression(x, y)\n",
    "\n",
    "# Plot the data and the fitted line\n",
    "import matplotlib.pyplot as plt\n",
    "\n",
    "# x_colors = np.where(x>1, 'orange', 'blue')# \n",
    "# y_colors = np.where(y>1, 'cyan', 'purple')\n",
    "# colors = ['orange' if val in x else 'cyan' for val in y]\n",
    "\n",
    "plt.scatter(x, y, c='orange')\n",
    "plt.scatter(x, z, c='cyan')\n",
    "plt.plot(x, slope * x + intercept, color='red')\n",
    "plt.show()"
   ]
  }
 ],
 "metadata": {
  "language_info": {
   "name": "python"
  },
  "orig_nbformat": 4
 },
 "nbformat": 4,
 "nbformat_minor": 2
}
